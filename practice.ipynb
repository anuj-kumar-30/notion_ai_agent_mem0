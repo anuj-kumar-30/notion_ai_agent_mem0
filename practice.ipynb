{
 "cells": [
  {
   "cell_type": "code",
   "execution_count": 1,
   "metadata": {},
   "outputs": [],
   "source": [
    "import os\n",
    "from groq import Groq\n",
    "from mem0 import MemoryClient\n",
    "from dotenv import load_dotenv"
   ]
  },
  {
   "cell_type": "code",
   "execution_count": 2,
   "metadata": {},
   "outputs": [],
   "source": [
    "try:\n",
    "    from notion_databases import get_all_databases_content\n",
    "    NOTION_DB_AVAILABLE = True\n",
    "except ImportError as e:\n",
    "    print(f\"Notion Databaes module not available: {e}\")\n",
    "    NOTION_DB_AVAILABLE = False"
   ]
  },
  {
   "cell_type": "code",
   "execution_count": 3,
   "metadata": {},
   "outputs": [
    {
     "data": {
      "text/plain": [
       "True"
      ]
     },
     "execution_count": 3,
     "metadata": {},
     "output_type": "execute_result"
    }
   ],
   "source": [
    "NOTION_DB_AVAILABLE"
   ]
  },
  {
   "cell_type": "code",
   "execution_count": 4,
   "metadata": {},
   "outputs": [],
   "source": [
    "# CHECKING IF THE NOTION PAGES \n",
    "try:\n",
    "    from notion_pages import get_accessible_pages, get_page_content\n",
    "    NOTION_PAGES_AVAILABLE = True\n",
    "except ImportError as e:\n",
    "    print(f\"Notion pages module not availble: {e}\")\n",
    "    NOTION_PAGES_AVAILABLE = False"
   ]
  },
  {
   "cell_type": "code",
   "execution_count": 5,
   "metadata": {},
   "outputs": [
    {
     "data": {
      "text/plain": [
       "True"
      ]
     },
     "execution_count": 5,
     "metadata": {},
     "output_type": "execute_result"
    }
   ],
   "source": [
    "NOTION_PAGES_AVAILABLE"
   ]
  },
  {
   "cell_type": "code",
   "execution_count": 6,
   "metadata": {},
   "outputs": [],
   "source": [
    "# loading env variables\n",
    "try:\n",
    "    load_dotenv()\n",
    "except Exception as e:\n",
    "    print('Could not load .env file: {e}')"
   ]
  },
  {
   "cell_type": "code",
   "execution_count": null,
   "metadata": {},
   "outputs": [],
   "source": [
    "class StreamlitNotionChatbot:\n",
    "    def __init__(self, groq_api_key, mem0_api_key):\n",
    "        '''Initialize the chatbot with API keys'''\n",
    "        try:\n",
    "            self."
   ]
  }
 ],
 "metadata": {
  "kernelspec": {
   "display_name": "venv",
   "language": "python",
   "name": "python3"
  },
  "language_info": {
   "codemirror_mode": {
    "name": "ipython",
    "version": 3
   },
   "file_extension": ".py",
   "mimetype": "text/x-python",
   "name": "python",
   "nbconvert_exporter": "python",
   "pygments_lexer": "ipython3",
   "version": "3.13.3"
  }
 },
 "nbformat": 4,
 "nbformat_minor": 2
}
